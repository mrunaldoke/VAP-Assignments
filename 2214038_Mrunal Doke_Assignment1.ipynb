{
 "cells": [
  {
   "cell_type": "markdown",
   "id": "a2aec326",
   "metadata": {},
   "source": [
    "# Assignment 01 - 27 feb,2024"
   ]
  },
  {
   "cell_type": "markdown",
   "id": "e1e26cde",
   "metadata": {},
   "source": [
    "1) What is 7 to the power of 4?"
   ]
  },
  {
   "cell_type": "code",
   "execution_count": 2,
   "id": "b81a819a",
   "metadata": {},
   "outputs": [],
   "source": [
    "A=7**4"
   ]
  },
  {
   "cell_type": "code",
   "execution_count": 3,
   "id": "0f669aa5",
   "metadata": {},
   "outputs": [
    {
     "data": {
      "text/plain": [
       "2401"
      ]
     },
     "execution_count": 3,
     "metadata": {},
     "output_type": "execute_result"
    }
   ],
   "source": [
    "A"
   ]
  },
  {
   "cell_type": "markdown",
   "id": "732de66d",
   "metadata": {},
   "source": [
    "2) Split this string:\n",
    "s = \"Hi there Yogesh!\"\n",
    "into a list. "
   ]
  },
  {
   "cell_type": "code",
   "execution_count": 5,
   "id": "dafcb4cc",
   "metadata": {},
   "outputs": [
    {
     "data": {
      "text/plain": [
       "['Hi', 'there', 'Yogesh!']"
      ]
     },
     "execution_count": 5,
     "metadata": {},
     "output_type": "execute_result"
    }
   ],
   "source": [
    "s = \"Hi there Yogesh!\"\n",
    "s.split()"
   ]
  },
  {
   "cell_type": "markdown",
   "id": "0e82dd1c",
   "metadata": {},
   "source": [
    "3) Given the variables:\n",
    "\n",
    "planet = \"Earth\"    \n",
    "diameter = 12742\n",
    " Use .format() to print the following string: \n",
    "\n",
    "Output - The diameter of Earth is 12742 kilometers."
   ]
  },
  {
   "cell_type": "code",
   "execution_count": 7,
   "id": "2ec4b109",
   "metadata": {},
   "outputs": [
    {
     "name": "stdout",
     "output_type": "stream",
     "text": [
      "the diameter of Earth is 12742 kilometers\n"
     ]
    }
   ],
   "source": [
    "planet = \"Earth\"\n",
    "diameter = 12742\n",
    "print(\"the diameter of {} is {} kilometers\".format(planet,diameter))"
   ]
  },
  {
   "cell_type": "markdown",
   "id": "40622960",
   "metadata": {},
   "source": [
    "4) Given this nested list, use indexing to grab the word \"hello\" \n",
    "lst = [1,2,[3,4],[5,[100,200,['hello']],23,11],1,7]"
   ]
  },
  {
   "cell_type": "code",
   "execution_count": 8,
   "id": "0b873041",
   "metadata": {},
   "outputs": [],
   "source": [
    "lst = [1,2,[3,4],[5,[100,200,['hello']],23,11],1,7]"
   ]
  },
  {
   "cell_type": "code",
   "execution_count": 9,
   "id": "51efc1c1",
   "metadata": {},
   "outputs": [
    {
     "data": {
      "text/plain": [
       "'hello'"
      ]
     },
     "execution_count": 9,
     "metadata": {},
     "output_type": "execute_result"
    }
   ],
   "source": [
    "lst[3][1][2][0]"
   ]
  },
  {
   "cell_type": "markdown",
   "id": "d38b9bfc",
   "metadata": {},
   "source": [
    "5) Given this nested dictionary grab the word \"hello\". Be prepared, this will be annoying/tricky \n",
    "d = {'k1':[1,2,3,{'tricky':['oh','man','inception',{'target':[1,2,3,'hello']}]}]}"
   ]
  },
  {
   "cell_type": "code",
   "execution_count": 13,
   "id": "cf76145d",
   "metadata": {},
   "outputs": [
    {
     "data": {
      "text/plain": [
       "'hello'"
      ]
     },
     "execution_count": 13,
     "metadata": {},
     "output_type": "execute_result"
    }
   ],
   "source": [
    "d = {'k1':[1,2,3,{'tricky':['oh','man','inception',{'target':[1,2,3,'hello']}]}]}\n",
    "d['k1'][3]['tricky'][3]['target'][3]"
   ]
  },
  {
   "cell_type": "markdown",
   "id": "72128b32",
   "metadata": {},
   "source": [
    "6) What is the main difference between a tuple and a list?"
   ]
  },
  {
   "cell_type": "code",
   "execution_count": 14,
   "id": "0be8f5d5",
   "metadata": {},
   "outputs": [
    {
     "data": {
      "text/plain": [
       "\" ANSWER : Tuple is immutable i.e elements cannot be changed and represented by '{}' curly brackets \\nwhereas list are mutable and represented by '[]' square bracket\""
      ]
     },
     "execution_count": 14,
     "metadata": {},
     "output_type": "execute_result"
    }
   ],
   "source": [
    "\"\"\" ANSWER : Tuple is immutable i.e elements cannot be changed and represented by '{}' curly brackets \n",
    "whereas list are mutable and represented by '[]' square bracket\"\"\""
   ]
  },
  {
   "cell_type": "markdown",
   "id": "24d8057f",
   "metadata": {},
   "source": [
    "7) Create a function that grabs the email website domain from a string in the form: \n",
    "\n",
    "user@domain.com\n",
    "So for example, passing \"user@domain.com\" would return: domain.com"
   ]
  },
  {
   "cell_type": "code",
   "execution_count": 15,
   "id": "32250d20",
   "metadata": {},
   "outputs": [],
   "source": [
    "def domain(email):\n",
    "    parts = email.split('@')\n",
    "    return parts[1]\n"
   ]
  },
  {
   "cell_type": "code",
   "execution_count": 16,
   "id": "23dbddfd",
   "metadata": {},
   "outputs": [
    {
     "name": "stdout",
     "output_type": "stream",
     "text": [
      "gmail.com\n"
     ]
    }
   ],
   "source": [
    "email = \"mrunaldoke2003@gmail.com\"\n",
    "domain_email = domain(email)\n",
    "print(domain_email)"
   ]
  },
  {
   "cell_type": "markdown",
   "id": "bfecaa3e",
   "metadata": {},
   "source": [
    "8) Create a basic function that returns True if the word 'dog' is contained in the input string. Don't worry about edge cases like a punctuation being attached to the word dog, but do account for capitalization."
   ]
  },
  {
   "cell_type": "code",
   "execution_count": 23,
   "id": "2b726485",
   "metadata": {},
   "outputs": [],
   "source": [
    "def find_dog(s):\n",
    "    if \"dog\" in s.lower().split():  # converts to lowercase \n",
    "        return True\n",
    "    else:\n",
    "        return False\n"
   ]
  },
  {
   "cell_type": "code",
   "execution_count": 24,
   "id": "4d40bec4",
   "metadata": {},
   "outputs": [
    {
     "data": {
      "text/plain": [
       "True"
      ]
     },
     "execution_count": 24,
     "metadata": {},
     "output_type": "execute_result"
    }
   ],
   "source": [
    "find_dog('the dog is barking')"
   ]
  },
  {
   "cell_type": "code",
   "execution_count": 25,
   "id": "d08e9d33",
   "metadata": {},
   "outputs": [
    {
     "data": {
      "text/plain": [
       "False"
      ]
     },
     "execution_count": 25,
     "metadata": {},
     "output_type": "execute_result"
    }
   ],
   "source": [
    "find_dog('the cat is playing')"
   ]
  },
  {
   "cell_type": "markdown",
   "id": "0c16c350",
   "metadata": {},
   "source": [
    "9) Create a function that counts the number of times the word \"dog\" occurs in a string. Again ignore edge cases. "
   ]
  },
  {
   "cell_type": "code",
   "execution_count": 32,
   "id": "3d245fae",
   "metadata": {},
   "outputs": [],
   "source": [
    "def count_dog(s):\n",
    "    c = 0\n",
    "    for i in s.lower().split():  # Convert to lowercase\n",
    "        if i == 'dog':              \n",
    "            c =c+1\n",
    "    print(c)"
   ]
  },
  {
   "cell_type": "code",
   "execution_count": 33,
   "id": "bbac6038",
   "metadata": {},
   "outputs": [
    {
     "name": "stdout",
     "output_type": "stream",
     "text": [
      "2\n"
     ]
    }
   ],
   "source": [
    "count_dog('This dog runs faster than the other dog dude!')"
   ]
  },
  {
   "cell_type": "markdown",
   "id": "3f9036b8",
   "metadata": {},
   "source": [
    "10) Use lambda expressions and the filter() function to filter out words from a list that don't start with the letter 's'. For example:**\n",
    "\n",
    "seq = ['soup','dog','salad','cat','great']\n",
    "should be filtered down to:\n",
    "\n",
    "['soup','salad']"
   ]
  },
  {
   "cell_type": "code",
   "execution_count": 35,
   "id": "a172fe5d",
   "metadata": {},
   "outputs": [
    {
     "data": {
      "text/plain": [
       "['soup', 'salad']"
      ]
     },
     "execution_count": 35,
     "metadata": {},
     "output_type": "execute_result"
    }
   ],
   "source": [
    "seq = ['soup','dog','salad','cat','great']\n",
    "list(filter(lambda v:v[0]=='s',seq))"
   ]
  },
  {
   "cell_type": "markdown",
   "id": "96e79f99",
   "metadata": {},
   "source": [
    "11) You are driving a little too fast, and a police officer stops you. Write a function to return one of 3 possible results: \"No ticket\", \"Small ticket\", or \"Big Ticket\". If your speed is 60 or less, the result is \"No Ticket\". If speed is between 61 and 80 inclusive, the result is \"Small Ticket\". If speed is 81 or more, the result is \"Big Ticket\". Unless it is your birthday (encoded as a boolean value in the parameters of the function) -- on your birthday, your speed can be 5 higher in all cases."
   ]
  },
  {
   "cell_type": "code",
   "execution_count": 36,
   "id": "fe340a4c",
   "metadata": {},
   "outputs": [],
   "source": [
    "def catch(speed, bday):\n",
    "    if bday:\n",
    "        newspeed=speed-5\n",
    "    else:\n",
    "        newspeed=speed\n",
    "    if newspeed>80:\n",
    "        return 'Big ticket'\n",
    "    elif newspeed>60:\n",
    "        return \"small ticket\"\n",
    "    else:\n",
    "        return \"NO Ticket\""
   ]
  },
  {
   "cell_type": "code",
   "execution_count": 37,
   "id": "751f162a",
   "metadata": {},
   "outputs": [
    {
     "data": {
      "text/plain": [
       "'Big ticket'"
      ]
     },
     "execution_count": 37,
     "metadata": {},
     "output_type": "execute_result"
    }
   ],
   "source": [
    "catch(84,False)"
   ]
  },
  {
   "cell_type": "code",
   "execution_count": 38,
   "id": "6e133c60",
   "metadata": {},
   "outputs": [
    {
     "data": {
      "text/plain": [
       "'small ticket'"
      ]
     },
     "execution_count": 38,
     "metadata": {},
     "output_type": "execute_result"
    }
   ],
   "source": [
    "catch(84,True)"
   ]
  },
  {
   "cell_type": "code",
   "execution_count": 45,
   "id": "f7801483",
   "metadata": {},
   "outputs": [
    {
     "data": {
      "text/plain": [
       "'NO Ticket'"
      ]
     },
     "execution_count": 45,
     "metadata": {},
     "output_type": "execute_result"
    }
   ],
   "source": [
    "catch(51,True)"
   ]
  },
  {
   "cell_type": "markdown",
   "id": "b79899cc",
   "metadata": {},
   "source": [
    "12) WAP to check whether a number is palindrome or not on following conditions.\n",
    "1. take input number\n",
    "2. add number and its reverse\n",
    "3. check that number is palindrome or not,if not then sum and its reverse"
   ]
  },
  {
   "cell_type": "code",
   "execution_count": 46,
   "id": "6f8d8a76",
   "metadata": {},
   "outputs": [
    {
     "name": "stdout",
     "output_type": "stream",
     "text": [
      "Enter the No.: 88\n",
      "Number is:  847\n",
      "Reverse is:  748\n",
      "Number is:  1595\n",
      "Reverse is:  5951\n",
      "Number is:  7546\n",
      "Reverse is:  6457\n",
      "Number is:  14003\n",
      "Reverse is:  30041\n",
      "Number is:  44044\n",
      "Reverse is:  44044\n",
      "Palindome is:  44044\n"
     ]
    }
   ],
   "source": [
    "n1=input(\"Enter the No.: \")\n",
    "n2=int(n1[::-1])\n",
    "n3=str(int(n1)+n2)\n",
    "while n3!=n3[::-1]:\n",
    "    n3=str(int(n3)+int(n3[::-1]))\n",
    "    print(\"Number is: \",n3)\n",
    "    print(\"Reverse is: \", n3[::-1])\n",
    "print(\"Palindome is: \",n3)"
   ]
  },
  {
   "cell_type": "markdown",
   "id": "6e434f06",
   "metadata": {},
   "source": [
    "13) Write a python function to find and display the five \n",
    "digit number in which the first digit is two more than \n",
    "the second,the second digit is two more than the third,\n",
    "the fourth digit is two less than the third, and the \n",
    "last digit is two more than\n",
    "the fourth.The sum of the third,fourth and fifth digits\n",
    "equals the first.The sum of all the digits is 19"
   ]
  },
  {
   "cell_type": "code",
   "execution_count": 49,
   "id": "5593e5a4",
   "metadata": {},
   "outputs": [],
   "source": [
    "def find_five_digit_number():\n",
    "    for num in range(10000, 100000):\n",
    "        digits = [int(digit) for digit in str(num)]\n",
    "        if (digits[0] == digits[1] + 2 and\n",
    "            digits[1] == digits[2] + 2 and\n",
    "            digits[2] - 2 == digits[3] and\n",
    "            digits[4] == digits[3] + 2 and\n",
    "            digits[0] == digits[2] + digits[3] + digits[4] and\n",
    "            sum(digits) == 19):\n",
    "            return num"
   ]
  },
  {
   "cell_type": "code",
   "execution_count": 50,
   "id": "61085d0e",
   "metadata": {},
   "outputs": [
    {
     "data": {
      "text/plain": [
       "75313"
      ]
     },
     "execution_count": 50,
     "metadata": {},
     "output_type": "execute_result"
    }
   ],
   "source": [
    "find_five_digit_number()"
   ]
  },
  {
   "cell_type": "code",
   "execution_count": null,
   "id": "a1f46450",
   "metadata": {},
   "outputs": [],
   "source": []
  }
 ],
 "metadata": {
  "kernelspec": {
   "display_name": "Python 3 (ipykernel)",
   "language": "python",
   "name": "python3"
  },
  "language_info": {
   "codemirror_mode": {
    "name": "ipython",
    "version": 3
   },
   "file_extension": ".py",
   "mimetype": "text/x-python",
   "name": "python",
   "nbconvert_exporter": "python",
   "pygments_lexer": "ipython3",
   "version": "3.11.4"
  }
 },
 "nbformat": 4,
 "nbformat_minor": 5
}
